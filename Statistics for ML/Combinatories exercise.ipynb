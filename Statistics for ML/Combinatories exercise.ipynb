{
 "cells": [
  {
   "cell_type": "markdown",
   "id": "2913d08e",
   "metadata": {},
   "source": [
    "**Exercises**:\n",
    "\n",
    "1. Use $n \\choose k$ to calculate the probability of throwing three heads in five coin tosses.\n",
    "2. Create a Python method that solves exercise 3 and incorporates the $n \\choose k$ formula $\\frac{n!}{k!(n - k)!}$. With the method in hand, calculate the probability of -- in five tosses -- throwing each of zero, one, two, three, four, and five heads."
   ]
  },
  {
   "cell_type": "code",
   "execution_count": 2,
   "id": "c8b6daff",
   "metadata": {},
   "outputs": [],
   "source": [
    "from math import factorial"
   ]
  },
  {
   "cell_type": "code",
   "execution_count": 3,
   "id": "9aaa42d3",
   "metadata": {},
   "outputs": [],
   "source": [
    "def coinflip(n,k):\n",
    "    P = factorial(n)/(factorial(k)*factorial(n-k))\n",
    "    return P/2**n"
   ]
  },
  {
   "cell_type": "code",
   "execution_count": 5,
   "id": "daa8b1c4",
   "metadata": {},
   "outputs": [
    {
     "data": {
      "text/plain": [
       "0.3125"
      ]
     },
     "execution_count": 5,
     "metadata": {},
     "output_type": "execute_result"
    }
   ],
   "source": [
    "coinflip(5,3)"
   ]
  },
  {
   "cell_type": "code",
   "execution_count": null,
   "id": "19ae6c75",
   "metadata": {},
   "outputs": [],
   "source": [
    "[coinflip()]"
   ]
  }
 ],
 "metadata": {
  "kernelspec": {
   "display_name": "Python 3 (ipykernel)",
   "language": "python",
   "name": "python3"
  },
  "language_info": {
   "codemirror_mode": {
    "name": "ipython",
    "version": 3
   },
   "file_extension": ".py",
   "mimetype": "text/x-python",
   "name": "python",
   "nbconvert_exporter": "python",
   "pygments_lexer": "ipython3",
   "version": "3.11.5"
  }
 },
 "nbformat": 4,
 "nbformat_minor": 5
}
