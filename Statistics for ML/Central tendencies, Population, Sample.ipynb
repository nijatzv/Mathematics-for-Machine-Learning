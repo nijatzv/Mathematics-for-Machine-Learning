{
 "cells": [
  {
   "cell_type": "code",
   "execution_count": 2,
   "id": "90c1db68",
   "metadata": {},
   "outputs": [],
   "source": [
    "import numpy as np\n",
    "import matplotlib.pyplot as plt\n",
    "%matplotlib inline"
   ]
  },
  {
   "cell_type": "markdown",
   "id": "e0db250c",
   "metadata": {},
   "source": [
    "## Central Tendency"
   ]
  },
  {
   "cell_type": "code",
   "execution_count": 5,
   "id": "c210d1e6",
   "metadata": {},
   "outputs": [
    {
     "data": {
      "text/plain": [
       "array([9, 7, 7, 8, 9, 7, 9, 8, 7, 8, 9, 8, 9, 8, 9, 7, 8, 8, 7, 8])"
      ]
     },
     "execution_count": 5,
     "metadata": {},
     "output_type": "execute_result"
    }
   ],
   "source": [
    "n = np.random.randint(7,10,20)\n",
    "n"
   ]
  },
  {
   "cell_type": "markdown",
   "id": "8bd87d18",
   "metadata": {},
   "source": [
    "### Mean\n",
    "Mean is the sum of the value of each observation in a dataset divided by the number of observations"
   ]
  },
  {
   "cell_type": "code",
   "execution_count": 6,
   "id": "5b711e10",
   "metadata": {},
   "outputs": [
    {
     "data": {
      "text/plain": [
       "8.0"
      ]
     },
     "execution_count": 6,
     "metadata": {},
     "output_type": "execute_result"
    }
   ],
   "source": [
    "np.mean(n)"
   ]
  },
  {
   "cell_type": "markdown",
   "id": "ab446874",
   "metadata": {},
   "source": [
    "### Median\n",
    "Median is the middle value in distribution when the values arranged in ascending or descending order"
   ]
  },
  {
   "cell_type": "code",
   "execution_count": 7,
   "id": "6c227555",
   "metadata": {},
   "outputs": [
    {
     "data": {
      "text/plain": [
       "8.0"
      ]
     },
     "execution_count": 7,
     "metadata": {},
     "output_type": "execute_result"
    }
   ],
   "source": [
    "np.median(n)"
   ]
  },
  {
   "cell_type": "markdown",
   "id": "c40a9495",
   "metadata": {},
   "source": [
    "### Mode\n",
    "Mode is most commonly occuring value in a distribution"
   ]
  },
  {
   "cell_type": "code",
   "execution_count": 10,
   "id": "edb267b4",
   "metadata": {},
   "outputs": [
    {
     "data": {
      "text/plain": [
       "8"
      ]
     },
     "execution_count": 10,
     "metadata": {},
     "output_type": "execute_result"
    }
   ],
   "source": [
    "from statistics import mode\n",
    "\n",
    "mode(n)"
   ]
  },
  {
   "cell_type": "markdown",
   "id": "1931c5f7",
   "metadata": {},
   "source": [
    "## Population and Sample\n",
    "Let us first introduce some terminology and related notations used in this book.\n",
    "\n",
    "**The units on which we measure data—such as persons, cars, animals, or plants—\n",
    "are called observations. These units/observations are represented by the Greek symbol ω.** \n",
    "\n",
    "**The collection of all units is called population and is represented by Ω.**    \n",
    "When we refer to ω ∈ Ω, we mean a single unit out of all units, e.g. one person out of all persons of interest. \n",
    "\n",
    "**If we consider a selection of observations ω1, ω2,..., ωn, then\n",
    "these observations are called sample. A sample is always a subset of the population,\n",
    "{ω1, ω2,..., ωn} ⊆ Ω**"
   ]
  },
  {
   "cell_type": "code",
   "execution_count": 11,
   "id": "0bf6857a",
   "metadata": {},
   "outputs": [
    {
     "data": {
      "text/plain": [
       "array([12, 15, 18, 11, 15, 14, 12, 16, 18, 18, 16, 14, 10, 12, 14, 17, 18,\n",
       "       15, 11, 10, 11, 19, 12, 16, 17, 17, 10, 14, 17, 17, 13, 12, 15, 19,\n",
       "       19, 16, 19, 11, 19, 11, 18, 17, 15, 18, 17, 17, 14, 15, 19, 12, 12,\n",
       "       17, 14, 15, 18, 16, 12, 15, 16, 12, 16, 19, 15, 10, 15, 16, 12, 13,\n",
       "       17, 10, 15, 15, 17, 16, 10, 14, 18, 14, 18, 18, 10, 10, 10, 13, 17,\n",
       "       17, 16, 17, 14, 11, 14, 16, 14, 11, 12, 19, 10, 17, 15, 19])"
      ]
     },
     "execution_count": 11,
     "metadata": {},
     "output_type": "execute_result"
    }
   ],
   "source": [
    "population = np.random.randint(10, 20, 100)\n",
    "population"
   ]
  },
  {
   "cell_type": "code",
   "execution_count": 12,
   "id": "579c9c82",
   "metadata": {},
   "outputs": [
    {
     "data": {
      "text/plain": [
       "14.79"
      ]
     },
     "execution_count": 12,
     "metadata": {},
     "output_type": "execute_result"
    }
   ],
   "source": [
    "np.mean(population)"
   ]
  },
  {
   "cell_type": "code",
   "execution_count": 13,
   "id": "4c5be326",
   "metadata": {},
   "outputs": [
    {
     "data": {
      "text/plain": [
       "15.0"
      ]
     },
     "execution_count": 13,
     "metadata": {},
     "output_type": "execute_result"
    }
   ],
   "source": [
    "np.median(population)"
   ]
  },
  {
   "cell_type": "code",
   "execution_count": 14,
   "id": "47da1425",
   "metadata": {},
   "outputs": [
    {
     "data": {
      "text/plain": [
       "17"
      ]
     },
     "execution_count": 14,
     "metadata": {},
     "output_type": "execute_result"
    }
   ],
   "source": [
    "from statistics import mode\n",
    "mode(population)"
   ]
  },
  {
   "cell_type": "code",
   "execution_count": 16,
   "id": "1ccd4d8c",
   "metadata": {},
   "outputs": [
    {
     "data": {
      "text/plain": [
       "array([11, 14, 11, 10, 18, 12, 16, 19, 14, 19, 17, 15, 12, 19, 10, 10, 13,\n",
       "       17, 15, 15])"
      ]
     },
     "execution_count": 16,
     "metadata": {},
     "output_type": "execute_result"
    }
   ],
   "source": [
    "sample = np.random.choice(population, 20) # sample is a subset of population\n",
    "sample"
   ]
  },
  {
   "cell_type": "code",
   "execution_count": 17,
   "id": "27dd539c",
   "metadata": {},
   "outputs": [
    {
     "data": {
      "text/plain": [
       "14.35"
      ]
     },
     "execution_count": 17,
     "metadata": {},
     "output_type": "execute_result"
    }
   ],
   "source": [
    "np.mean(sample)"
   ]
  },
  {
   "cell_type": "code",
   "execution_count": 18,
   "id": "9f65120a",
   "metadata": {},
   "outputs": [
    {
     "data": {
      "text/plain": [
       "14.5"
      ]
     },
     "execution_count": 18,
     "metadata": {},
     "output_type": "execute_result"
    }
   ],
   "source": [
    "np.median(sample)"
   ]
  },
  {
   "cell_type": "code",
   "execution_count": 19,
   "id": "fedbc392",
   "metadata": {},
   "outputs": [
    {
     "data": {
      "text/plain": [
       "10"
      ]
     },
     "execution_count": 19,
     "metadata": {},
     "output_type": "execute_result"
    }
   ],
   "source": [
    "mode(sample)"
   ]
  },
  {
   "cell_type": "markdown",
   "id": "62f0c559",
   "metadata": {},
   "source": [
    "As in population and our sample, we can observe that there are similarities between our central tendencies. Let's collect more samples to strengthen our knowledge."
   ]
  },
  {
   "cell_type": "code",
   "execution_count": 28,
   "id": "20786918",
   "metadata": {},
   "outputs": [],
   "source": [
    "sample1 = np.random.choice(population, 15)\n",
    "sample2 = np.random.choice(population, 15)\n",
    "sample3 = np.random.choice(population, 15)\n",
    "sample4 = np.random.choice(population, 15)"
   ]
  },
  {
   "cell_type": "code",
   "execution_count": 29,
   "id": "e153fc22",
   "metadata": {},
   "outputs": [
    {
     "data": {
      "text/plain": [
       "[14.35, 14.066666666666666, 13.466666666666667, 14.0, 14.333333333333334]"
      ]
     },
     "execution_count": 29,
     "metadata": {},
     "output_type": "execute_result"
    }
   ],
   "source": [
    "all_samples = [sample, sample1, sample2, sample3, sample4]\n",
    "sample_mean = []\n",
    "\n",
    "for i in all_samples:\n",
    "    sample_mean.append(np.mean(i))\n",
    "    \n",
    "sample_mean"
   ]
  },
  {
   "cell_type": "code",
   "execution_count": 30,
   "id": "5d58cbf1",
   "metadata": {},
   "outputs": [
    {
     "data": {
      "text/plain": [
       "14.043333333333333"
      ]
     },
     "execution_count": 30,
     "metadata": {},
     "output_type": "execute_result"
    }
   ],
   "source": [
    "np.mean(sample_mean)"
   ]
  },
  {
   "cell_type": "code",
   "execution_count": 31,
   "id": "ad37102f",
   "metadata": {},
   "outputs": [
    {
     "data": {
      "text/plain": [
       "14.79"
      ]
     },
     "execution_count": 31,
     "metadata": {},
     "output_type": "execute_result"
    }
   ],
   "source": [
    "np.mean(population)"
   ]
  },
  {
   "cell_type": "code",
   "execution_count": null,
   "id": "c288b778",
   "metadata": {},
   "outputs": [],
   "source": []
  }
 ],
 "metadata": {
  "kernelspec": {
   "display_name": "Python 3 (ipykernel)",
   "language": "python",
   "name": "python3"
  },
  "language_info": {
   "codemirror_mode": {
    "name": "ipython",
    "version": 3
   },
   "file_extension": ".py",
   "mimetype": "text/x-python",
   "name": "python",
   "nbconvert_exporter": "python",
   "pygments_lexer": "ipython3",
   "version": "3.11.5"
  }
 },
 "nbformat": 4,
 "nbformat_minor": 5
}
